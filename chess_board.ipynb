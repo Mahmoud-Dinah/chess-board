{
 "cells": [
  {
   "cell_type": "code",
   "execution_count": 153,
   "source": [
    "import numpy as np\n",
    "import matplotlib.pyplot as plt"
   ],
   "outputs": [],
   "metadata": {}
  },
  {
   "cell_type": "code",
   "execution_count": 154,
   "source": [
    "class ChessBoard:\n",
    "    def __init__(self):\n",
    "        self.grid = np.ones((8,8,3))\n",
    "        self.red = [1,.2,0]\n",
    "        self.blue = [0,1,1]\n",
    "        for i in range(len(self.grid)):\n",
    "            for j in range(len(self.grid)):\n",
    "                if i%2 == 0 and j%2==1:\n",
    "                    self.grid[i,j]=[0,0,0]\n",
    "                if i%2 == 1 and j%2 ==0:\n",
    "                    self.grid[i,j]=[0,0,0]\n",
    "    \n",
    "    def add_red(self,row,col):\n",
    "        self.grid[row,col]=[1,.2,0]\n",
    "        self.red=[row,col]\n",
    "\n",
    "    def add_blue(self,row,col):\n",
    "         self.grid[row,col]=[0,1,1]\n",
    "         self.blue=[row,col]"
   ],
   "outputs": [],
   "metadata": {}
  },
  {
   "cell_type": "code",
   "execution_count": null,
   "source": [],
   "outputs": [],
   "metadata": {}
  },
  {
   "cell_type": "code",
   "execution_count": null,
   "source": [],
   "outputs": [],
   "metadata": {}
  },
  {
   "cell_type": "code",
   "execution_count": 155,
   "source": [
    "chess = ChessBoard()\n",
    "plt.imshow(chess.grid)\n"
   ],
   "outputs": [
    {
     "output_type": "error",
     "ename": "AttributeError",
     "evalue": "'ChessBoard' object has no attribute 'self'",
     "traceback": [
      "\u001b[0;31m---------------------------------------------------------------------------\u001b[0m",
      "\u001b[0;31mAttributeError\u001b[0m                            Traceback (most recent call last)",
      "\u001b[0;32m/tmp/ipykernel_1394/1592907823.py\u001b[0m in \u001b[0;36m<module>\u001b[0;34m\u001b[0m\n\u001b[1;32m      1\u001b[0m \u001b[0mchess\u001b[0m \u001b[0;34m=\u001b[0m \u001b[0mChessBoard\u001b[0m\u001b[0;34m(\u001b[0m\u001b[0;34m)\u001b[0m\u001b[0;34m\u001b[0m\u001b[0;34m\u001b[0m\u001b[0m\n\u001b[0;32m----> 2\u001b[0;31m \u001b[0mplt\u001b[0m\u001b[0;34m.\u001b[0m\u001b[0mimshow\u001b[0m\u001b[0;34m(\u001b[0m\u001b[0mchess\u001b[0m\u001b[0;34m.\u001b[0m\u001b[0mself\u001b[0m\u001b[0;34m.\u001b[0m\u001b[0mgrid\u001b[0m\u001b[0;34m)\u001b[0m\u001b[0;34m\u001b[0m\u001b[0;34m\u001b[0m\u001b[0m\n\u001b[0m",
      "\u001b[0;31mAttributeError\u001b[0m: 'ChessBoard' object has no attribute 'self'"
     ]
    }
   ],
   "metadata": {}
  }
 ],
 "metadata": {
  "orig_nbformat": 4,
  "language_info": {
   "name": "python",
   "version": "3.9.6",
   "mimetype": "text/x-python",
   "codemirror_mode": {
    "name": "ipython",
    "version": 3
   },
   "pygments_lexer": "ipython3",
   "nbconvert_exporter": "python",
   "file_extension": ".py"
  },
  "kernelspec": {
   "name": "python3",
   "display_name": "Python 3.9.6 64-bit ('.venv': poetry)"
  },
  "interpreter": {
   "hash": "5aa9255bf0f998dde4d2bd23c737f47f1da0af6a37ee9f97db9ce46852b1b7c4"
  }
 },
 "nbformat": 4,
 "nbformat_minor": 2
}